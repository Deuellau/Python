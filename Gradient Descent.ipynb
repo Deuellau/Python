{
 "cells": [
  {
   "cell_type": "markdown",
   "id": "559a8c3d",
   "metadata": {},
   "source": [
    "## Gradient Descent Algorithm"
   ]
  },
  {
   "cell_type": "markdown",
   "id": "53da3a37",
   "metadata": {},
   "source": [
    "Gradient descent (also often called steepest descent) is a first-order iterative optimization algorithm for finding a local minimum of a differentiable function. The idea is to take repeated steps in the opposite direction of the gradient (or approximate gradient) of the function at the current point, because this is the direction of steepest descent. Conversely, stepping in the direction of the gradient will lead to a local maximum of that function; the procedure is then known as gradient ascent [(Wiki)](https://en.wikipedia.org/wiki/Gradient_descent).\n",
    " \n",
    "Implemented for univariate linear regression.\n",
    "Referenced from Stanford Machine Learning course.  "
   ]
  },
  {
   "cell_type": "markdown",
   "id": "f3adad14",
   "metadata": {},
   "source": [
    "### Environment Setup"
   ]
  },
  {
   "cell_type": "code",
   "execution_count": 1,
   "id": "668128b8",
   "metadata": {},
   "outputs": [],
   "source": [
    "# data array and visualisation libraries\n",
    "import numpy as np\n",
    "import pandas as pd\n",
    "import matplotlib.pyplot as plt\n",
    "%matplotlib inline"
   ]
  },
  {
   "cell_type": "code",
   "execution_count": 2,
   "id": "40a4295b",
   "metadata": {},
   "outputs": [
    {
     "data": {
      "text/plain": [
       "<matplotlib.collections.PathCollection at 0x1ebfb3ce160>"
      ]
     },
     "execution_count": 2,
     "metadata": {},
     "output_type": "execute_result"
    },
    {
     "data": {
      "image/png": "[encoded data removed]",
      "text/plain": [
       "<Figure size 432x288 with 1 Axes>"
      ]
     },
     "metadata": {
      "needs_background": "light"
     },
     "output_type": "display_data"
    }
   ],
   "source": [
    "# read and visualise dataset\n",
    "df = pd.read_csv('data.csv')\n",
    "x = np.array(df['X'])\n",
    "y = np.array(df['y'])\n",
    "\n",
    "plt.scatter(x,y)"
   ]
  },
  {
   "cell_type": "markdown",
   "id": "bae889ca",
   "metadata": {},
   "source": [
    "### Referenced Equations"
   ]
  },
  {
   "cell_type": "markdown",
   "id": "d71ece5b",
   "metadata": {},
   "source": [
    "### (1) Hypothesis:  $ h_{\\theta}(x) = \\theta_{0} + \\theta_{1}x$  \n",
    "### (2) Parameters: $ \\theta_{0}, \\theta_{1} $\n",
    "### (3) Cost Function: $ J(\\theta_{0}, \\theta_{1}) = \\frac{1}{2m}\\sum \\limits _{i=1} ^{m} (h_{\\theta}(x^{(i)})-y^{(i)}) $\n",
    "### (4) Gradient Descent: $ \\theta_{j} := \\theta_{j} - \\alpha \\frac{\\partial}{\\partial\\theta_{j}}J(\\theta_{0}, \\theta_{1}) $"
   ]
  },
  {
   "cell_type": "code",
   "execution_count": 11,
   "id": "9ba95258",
   "metadata": {
    "scrolled": true
   },
   "outputs": [
    {
     "name": "stdout",
     "output_type": "stream",
     "text": [
      "\n",
      "Final Values\n",
      "Theta0: 0.12451764233784295, Theta1: 0.5026293827783891\n"
     ]
    }
   ],
   "source": [
    "# gradient descent function\n",
    "def gradient_descent(x,y,iter,a):\n",
    "    theta0 = theta1 = 0       # set initial parameters (2)\n",
    "    iterations = iter         # set no. of iterations\n",
    "    m = len(x)                # count dataset rows\n",
    "    learning_rate = a         # set learning rate (4 - alpha)\n",
    "    all_cost = []\n",
    "    \n",
    "    \n",
    "    for i in range(iterations):\n",
    "        y_predicted = theta0 + theta1 * x            # find H(x) using parameters and x values (1)\n",
    "        cost = (1/(2*m))*sum((y_predicted-y)**2)     # find Cost using Cost Function (3)\n",
    "        \n",
    "        J0 = (1/m) * sum(y_predicted-y)              # partial diff of J0 (4)\n",
    "        J1 = (1/m) * sum((y_predicted-y)*x)          # partial diff of J1 (4)\n",
    "        theta0 = theta0 - learning_rate * J0         # Gradient Descent (4) and Update Parameters (2)\n",
    "        theta1 = theta1 - learning_rate * J1         # Gradient Descent (4) and Update Parameters (2)\n",
    "        \n",
    "        all_cost.append(cost)\n",
    "            \n",
    "        # print ('theta0: {}, theta1: {}, cost: {}, iteration: {}'.format(theta0, theta1, cost, i))\n",
    "        # ^ to show respective values when each loop is performed ^\n",
    "        \n",
    "    print('\\nFinal Values\\nTheta0: {}, Theta1: {}'.format(theta0, theta1))\n",
    "    return theta0, theta1, all_cost\n",
    "\n",
    "# initalise and call function\n",
    "iter = 200\n",
    "a = 0.001\n",
    "gd_df = gradient_descent(x,y,iter,a)\n",
    "\n",
    "# reassign returned values\n",
    "theta = gd_df[:2]\n",
    "all_cost = np.reshape(gd_df[2:], [iter,1])"
   ]
  },
  {
   "cell_type": "markdown",
   "id": "f1c82b8f",
   "metadata": {},
   "source": [
    "**Best Fit Line**"
   ]
  },
  {
   "cell_type": "code",
   "execution_count": 12,
   "id": "f83adfd3",
   "metadata": {},
   "outputs": [
    {
     "data": {
      "text/plain": [
       "[<matplotlib.lines.Line2D at 0x1ebfbd43d90>]"
      ]
     },
     "execution_count": 12,
     "metadata": {},
     "output_type": "execute_result"
    },
    {
     "data": {
      "image/png": "[encoded data removed]",
      "text/plain": [
       "<Figure size 432x288 with 1 Axes>"
      ]
     },
     "metadata": {
      "needs_background": "light"
     },
     "output_type": "display_data"
    }
   ],
   "source": [
    "# Use `theta` values plot best fit line\n",
    "Hypothesis = theta[0] + theta[1] * x\n",
    "\n",
    "plt.scatter(x,y)\n",
    "plt.plot(x,Hypothesis, color='Red')"
   ]
  },
  {
   "cell_type": "markdown",
   "id": "cb6d28f9",
   "metadata": {},
   "source": [
    "**Cost value for each iteration**"
   ]
  },
  {
   "cell_type": "code",
   "execution_count": 13,
   "id": "28977184",
   "metadata": {},
   "outputs": [
    {
     "data": {
      "text/plain": [
       "<matplotlib.collections.PathCollection at 0x1ebfbda6580>"
      ]
     },
     "execution_count": 13,
     "metadata": {},
     "output_type": "execute_result"
    },
    {
     "data": {
      "image/png": "[encoded data removed]",
      "text/plain": [
       "<Figure size 432x288 with 1 Axes>"
      ]
     },
     "metadata": {
      "needs_background": "light"
     },
     "output_type": "display_data"
    }
   ],
   "source": [
    "plt.scatter(np.arange(1,len(all_cost)+1),all_cost)"
   ]
  }
 ],
 "metadata": {
  "kernelspec": {
   "display_name": "Python 3",
   "language": "python",
   "name": "python3"
  },
  "language_info": {
   "codemirror_mode": {
    "name": "ipython",
    "version": 3
   },
   "file_extension": ".py",
   "mimetype": "text/x-python",
   "name": "python",
   "nbconvert_exporter": "python",
   "pygments_lexer": "ipython3",
   "version": "3.8.8"
  }
 },
 "nbformat": 4,
 "nbformat_minor": 5
}
