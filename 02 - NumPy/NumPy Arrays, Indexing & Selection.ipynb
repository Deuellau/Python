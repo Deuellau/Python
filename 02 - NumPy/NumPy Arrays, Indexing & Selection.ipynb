{
 "cells": [
  {
   "cell_type": "markdown",
   "id": "b1422379",
   "metadata": {},
   "source": [
    "# NumPy Notes\n",
    "\n",
    "Covers arrays and indexing & selection"
   ]
  },
  {
   "cell_type": "markdown",
   "id": "2c0d43a6",
   "metadata": {},
   "source": [
    "**Import NumPy**"
   ]
  },
  {
   "cell_type": "code",
   "execution_count": 1,
   "id": "64e4ad5c",
   "metadata": {},
   "outputs": [],
   "source": [
    "import numpy as np"
   ]
  },
  {
   "cell_type": "markdown",
   "id": "cbda6461",
   "metadata": {},
   "source": [
    " ## 1. Arrays\n"
   ]
  },
  {
   "cell_type": "markdown",
   "id": "5dfab6e5",
   "metadata": {},
   "source": [
    "**1.1 Same value arrays**"
   ]
  },
  {
   "cell_type": "code",
   "execution_count": 2,
   "id": "f3349fa9",
   "metadata": {},
   "outputs": [
    {
     "data": {
      "text/plain": [
       "array([0., 0., 0., 0., 0.])"
      ]
     },
     "execution_count": 2,
     "metadata": {},
     "output_type": "execute_result"
    }
   ],
   "source": [
    "np.zeros(5)"
   ]
  },
  {
   "cell_type": "code",
   "execution_count": 3,
   "id": "60e2d116",
   "metadata": {},
   "outputs": [
    {
     "data": {
      "text/plain": [
       "array([1., 1., 1., 1., 1.])"
      ]
     },
     "execution_count": 3,
     "metadata": {},
     "output_type": "execute_result"
    }
   ],
   "source": [
    "np.ones(5)"
   ]
  },
  {
   "cell_type": "code",
   "execution_count": 4,
   "id": "374d4a6d",
   "metadata": {},
   "outputs": [
    {
     "data": {
      "text/plain": [
       "array([5., 5., 5., 5., 5.])"
      ]
     },
     "execution_count": 4,
     "metadata": {},
     "output_type": "execute_result"
    }
   ],
   "source": [
    "# creating vector with '5's\n",
    "np.ones(5)*5\n",
    "\n",
    "# np.zeros(5)+5 works as well"
   ]
  },
  {
   "cell_type": "markdown",
   "id": "a9f86199",
   "metadata": {},
   "source": [
    " "
   ]
  },
  {
   "cell_type": "markdown",
   "id": "404c68b7",
   "metadata": {},
   "source": [
    "**1.2 Ranged Arrays**"
   ]
  },
  {
   "cell_type": "code",
   "execution_count": 5,
   "id": "eb38d5f6",
   "metadata": {},
   "outputs": [
    {
     "data": {
      "text/plain": [
       "array([0, 1, 2, 3, 4, 5, 6, 7, 8])"
      ]
     },
     "execution_count": 5,
     "metadata": {},
     "output_type": "execute_result"
    }
   ],
   "source": [
    "np.arange(0,9)"
   ]
  },
  {
   "cell_type": "code",
   "execution_count": 6,
   "id": "a05dfe0c",
   "metadata": {},
   "outputs": [
    {
     "data": {
      "text/plain": [
       "array([0, 2, 4, 6, 8])"
      ]
     },
     "execution_count": 6,
     "metadata": {},
     "output_type": "execute_result"
    }
   ],
   "source": [
    "# with steps\n",
    "np.arange(0,9,2)"
   ]
  },
  {
   "cell_type": "markdown",
   "id": "48dbe8b4",
   "metadata": {},
   "source": [
    " "
   ]
  },
  {
   "cell_type": "markdown",
   "id": "77aaecce",
   "metadata": {},
   "source": [
    "**1.3 Reshaping**"
   ]
  },
  {
   "cell_type": "code",
   "execution_count": 7,
   "id": "fe998c4a",
   "metadata": {},
   "outputs": [
    {
     "data": {
      "text/plain": [
       "array([[0, 1, 2],\n",
       "       [3, 4, 5],\n",
       "       [6, 7, 8]])"
      ]
     },
     "execution_count": 7,
     "metadata": {},
     "output_type": "execute_result"
    }
   ],
   "source": [
    "np.arange(0,9).reshape(3,3)"
   ]
  },
  {
   "cell_type": "markdown",
   "id": "59bc977e",
   "metadata": {},
   "source": [
    " "
   ]
  },
  {
   "cell_type": "markdown",
   "id": "4e8af554",
   "metadata": {},
   "source": [
    "**1.4 Identity Matrix**"
   ]
  },
  {
   "cell_type": "code",
   "execution_count": 8,
   "id": "b23f9b10",
   "metadata": {},
   "outputs": [
    {
     "data": {
      "text/plain": [
       "array([[1., 0., 0., 0., 0.],\n",
       "       [0., 1., 0., 0., 0.],\n",
       "       [0., 0., 1., 0., 0.],\n",
       "       [0., 0., 0., 1., 0.],\n",
       "       [0., 0., 0., 0., 1.]])"
      ]
     },
     "execution_count": 8,
     "metadata": {},
     "output_type": "execute_result"
    }
   ],
   "source": [
    "np.eye(5)"
   ]
  },
  {
   "cell_type": "markdown",
   "id": "ec0f2731",
   "metadata": {},
   "source": [
    " "
   ]
  },
  {
   "cell_type": "markdown",
   "id": "3df18655",
   "metadata": {},
   "source": [
    "**1.5 Random Array**"
   ]
  },
  {
   "cell_type": "code",
   "execution_count": 9,
   "id": "28d2780d",
   "metadata": {},
   "outputs": [
    {
     "data": {
      "text/plain": [
       "array([[-0.1148921 , -0.39884863, -1.09094553],\n",
       "       [-0.73114431, -0.76821724,  1.13264845],\n",
       "       [-2.04760556, -0.46313962,  0.54272343]])"
      ]
     },
     "execution_count": 9,
     "metadata": {},
     "output_type": "execute_result"
    }
   ],
   "source": [
    "np.random.randn(9).reshape(3,3)"
   ]
  },
  {
   "cell_type": "markdown",
   "id": "c9cccd36",
   "metadata": {},
   "source": [
    " "
   ]
  },
  {
   "cell_type": "markdown",
   "id": "88ef0c51",
   "metadata": {},
   "source": [
    "**1.6 Linearly Spaced Points**"
   ]
  },
  {
   "cell_type": "code",
   "execution_count": 10,
   "id": "2d3e1bf2",
   "metadata": {},
   "outputs": [
    {
     "data": {
      "text/plain": [
       "array([0.        , 0.11111111, 0.22222222, 0.33333333, 0.44444444,\n",
       "       0.55555556, 0.66666667, 0.77777778, 0.88888889, 1.        ])"
      ]
     },
     "execution_count": 10,
     "metadata": {},
     "output_type": "execute_result"
    }
   ],
   "source": [
    "np.linspace(0,1,10)"
   ]
  },
  {
   "cell_type": "markdown",
   "id": "e3fec389",
   "metadata": {},
   "source": [
    " "
   ]
  },
  {
   "cell_type": "markdown",
   "id": "22021714",
   "metadata": {},
   "source": [
    " ## 2. Indexing & Selection\n"
   ]
  },
  {
   "cell_type": "code",
   "execution_count": 11,
   "id": "d5711bb0",
   "metadata": {},
   "outputs": [
    {
     "data": {
      "text/plain": [
       "array([[ 1,  2,  3,  4],\n",
       "       [ 5,  6,  7,  8],\n",
       "       [ 9, 10, 11, 12],\n",
       "       [13, 14, 15, 16]])"
      ]
     },
     "execution_count": 11,
     "metadata": {},
     "output_type": "execute_result"
    }
   ],
   "source": [
    "matrix = np.arange(1,17).reshape(4,4)\n",
    "matrix"
   ]
  },
  {
   "cell_type": "markdown",
   "id": "584e9872",
   "metadata": {},
   "source": [
    " "
   ]
  },
  {
   "cell_type": "markdown",
   "id": "9b7cc0f8",
   "metadata": {},
   "source": [
    "**2.1 Grab Row**"
   ]
  },
  {
   "cell_type": "code",
   "execution_count": 12,
   "id": "d87e07ec",
   "metadata": {},
   "outputs": [
    {
     "data": {
      "text/plain": [
       "array([[1, 2, 3, 4]])"
      ]
     },
     "execution_count": 12,
     "metadata": {},
     "output_type": "execute_result"
    }
   ],
   "source": [
    "matrix[0:1,:]"
   ]
  },
  {
   "cell_type": "code",
   "execution_count": 13,
   "id": "222e77c8",
   "metadata": {},
   "outputs": [
    {
     "data": {
      "text/plain": [
       "array([[ 9, 10, 11, 12]])"
      ]
     },
     "execution_count": 13,
     "metadata": {},
     "output_type": "execute_result"
    }
   ],
   "source": [
    "matrix[2:3]"
   ]
  },
  {
   "cell_type": "markdown",
   "id": "2e13313a",
   "metadata": {},
   "source": [
    " "
   ]
  },
  {
   "cell_type": "markdown",
   "id": "b7f2a671",
   "metadata": {},
   "source": [
    "**2.2 Grab Column**"
   ]
  },
  {
   "cell_type": "code",
   "execution_count": 14,
   "id": "93cd6525",
   "metadata": {},
   "outputs": [
    {
     "data": {
      "text/plain": [
       "array([[ 1],\n",
       "       [ 5],\n",
       "       [ 9],\n",
       "       [13]])"
      ]
     },
     "execution_count": 14,
     "metadata": {},
     "output_type": "execute_result"
    }
   ],
   "source": [
    "matrix[:,0:1]"
   ]
  },
  {
   "cell_type": "code",
   "execution_count": 15,
   "id": "a90bdf38",
   "metadata": {},
   "outputs": [
    {
     "data": {
      "text/plain": [
       "array([[ 4],\n",
       "       [ 8],\n",
       "       [12],\n",
       "       [16]])"
      ]
     },
     "execution_count": 15,
     "metadata": {},
     "output_type": "execute_result"
    }
   ],
   "source": [
    "matrix[:,3:4]"
   ]
  },
  {
   "cell_type": "markdown",
   "id": "1e4d45b6",
   "metadata": {},
   "source": [
    " "
   ]
  },
  {
   "cell_type": "markdown",
   "id": "466414c9",
   "metadata": {},
   "source": [
    "**2.3 Grab multiple points**"
   ]
  },
  {
   "cell_type": "code",
   "execution_count": 16,
   "id": "4cabee93",
   "metadata": {},
   "outputs": [
    {
     "data": {
      "text/plain": [
       "array([[11, 12],\n",
       "       [15, 16]])"
      ]
     },
     "execution_count": 16,
     "metadata": {},
     "output_type": "execute_result"
    }
   ],
   "source": [
    "matrix[2:,2:]"
   ]
  },
  {
   "cell_type": "code",
   "execution_count": 17,
   "id": "9dcb6d0c",
   "metadata": {},
   "outputs": [
    {
     "data": {
      "text/plain": [
       "array([[6, 7, 8]])"
      ]
     },
     "execution_count": 17,
     "metadata": {},
     "output_type": "execute_result"
    }
   ],
   "source": [
    "matrix[1:2,1:]"
   ]
  },
  {
   "cell_type": "code",
   "execution_count": 18,
   "id": "b35104d5",
   "metadata": {},
   "outputs": [
    {
     "data": {
      "text/plain": [
       "array([[ 3],\n",
       "       [ 7],\n",
       "       [11]])"
      ]
     },
     "execution_count": 18,
     "metadata": {},
     "output_type": "execute_result"
    }
   ],
   "source": [
    "matrix[:3,2:3]"
   ]
  },
  {
   "cell_type": "markdown",
   "id": "26fe67c3",
   "metadata": {},
   "source": [
    " "
   ]
  },
  {
   "cell_type": "markdown",
   "id": "8f110c21",
   "metadata": {},
   "source": [
    "**2.3 Grab singular point**"
   ]
  },
  {
   "cell_type": "code",
   "execution_count": 19,
   "id": "75a8889a",
   "metadata": {},
   "outputs": [
    {
     "data": {
      "text/plain": [
       "16"
      ]
     },
     "execution_count": 19,
     "metadata": {},
     "output_type": "execute_result"
    }
   ],
   "source": [
    "matrix[3,3]"
   ]
  }
 ],
 "metadata": {
  "kernelspec": {
   "display_name": "Python 3",
   "language": "python",
   "name": "python3"
  },
  "language_info": {
   "codemirror_mode": {
    "name": "ipython",
    "version": 3
   },
   "file_extension": ".py",
   "mimetype": "text/x-python",
   "name": "python",
   "nbconvert_exporter": "python",
   "pygments_lexer": "ipython3",
   "version": "3.8.8"
  }
 },
 "nbformat": 4,
 "nbformat_minor": 5
}
