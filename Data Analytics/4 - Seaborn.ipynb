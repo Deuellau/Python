{
 "cells": [
  {
   "cell_type": "markdown",
   "id": "dcb2f214",
   "metadata": {},
   "source": [
    "# Seaborn Visuals\n",
    "\n",
    "**Covers: Data Visualisation with Seaborn**\n",
    "_____\n",
    "\n",
    "### Plot Types:\n",
    "1. Distribution Plots\n",
    "  * distplot\n",
    "      * `sns.displot(df['df_col'])`\n",
    "  * jointplot\n",
    "      * `sns.jointplot(x='', y='', data=df)`\n",
    "  * pairplot\n",
    "      * `sns.pairplot(df)`\n",
    "  * kdeplot\n",
    "      * `sns.kdeplot(df['df_col'])`\n",
    "\n",
    "\n",
    "2. Categorical Plots\n",
    "  * barplot\n",
    "      * `sns.barplot(x='', y='', data=df)`\n",
    "  * boxplot\n",
    "      * `sns.boxplot(x='', data=df)`\n",
    "  * violinplot\n",
    "      * `sns.violinplot(x='', y='', data=df)`\n",
    "  * stripplot\n",
    "      * `sns.stripplot(x='', y='', data=df)`\n",
    "  * swarmplot\n",
    "      * `sns.swarmplot(x='', y='', data=df)`\n",
    "\n",
    "\n",
    "3. Matrix Plots\n",
    "  * heatmap\n",
    "      * `sns.heatmap(df.corr())`\n",
    "      * `sns.heatmap(df.withIndex)`\n",
    "  * clustermap\n",
    "      * `sns.clustermap(df)`\n",
    "\n",
    "\n",
    "4. Grid Plots\n",
    "  * pairgrid\n",
    "      * `sns.PairGrid(df)`, `g.map(plt.<>)`\n",
    "  * facetgrid\n",
    "      * `sns.FacetGrid(df, col='', row='')`, `g.map(plt.<>, '')`\n",
    "\n",
    "\n",
    "5. Regression Plots\n",
    "  * implot\n",
    "      * `sns.lmplot(x='', y='', data=df)`\n",
    "_____"
   ]
  },
  {
   "cell_type": "markdown",
   "id": "b23482a1",
   "metadata": {},
   "source": [
    "### Import and Load Dataset"
   ]
  },
  {
   "cell_type": "code",
   "execution_count": 1,
   "id": "75e5cb2b",
   "metadata": {
    "scrolled": true
   },
   "outputs": [
    {
     "data": {
      "text/html": [
       "<div>\n",
       "<style scoped>\n",
       "    .dataframe tbody tr th:only-of-type {\n",
       "        vertical-align: middle;\n",
       "    }\n",
       "\n",
       "    .dataframe tbody tr th {\n",
       "        vertical-align: top;\n",
       "    }\n",
       "\n",
       "    .dataframe thead th {\n",
       "        text-align: right;\n",
       "    }\n",
       "</style>\n",
       "<table border=\"1\" class=\"dataframe\">\n",
       "  <thead>\n",
       "    <tr style=\"text-align: right;\">\n",
       "      <th></th>\n",
       "      <th>total_bill</th>\n",
       "      <th>tip</th>\n",
       "      <th>sex</th>\n",
       "      <th>smoker</th>\n",
       "      <th>day</th>\n",
       "      <th>time</th>\n",
       "      <th>size</th>\n",
       "    </tr>\n",
       "  </thead>\n",
       "  <tbody>\n",
       "    <tr>\n",
       "      <th>0</th>\n",
       "      <td>16.99</td>\n",
       "      <td>1.01</td>\n",
       "      <td>Female</td>\n",
       "      <td>No</td>\n",
       "      <td>Sun</td>\n",
       "      <td>Dinner</td>\n",
       "      <td>2</td>\n",
       "    </tr>\n",
       "    <tr>\n",
       "      <th>1</th>\n",
       "      <td>10.34</td>\n",
       "      <td>1.66</td>\n",
       "      <td>Male</td>\n",
       "      <td>No</td>\n",
       "      <td>Sun</td>\n",
       "      <td>Dinner</td>\n",
       "      <td>3</td>\n",
       "    </tr>\n",
       "    <tr>\n",
       "      <th>2</th>\n",
       "      <td>21.01</td>\n",
       "      <td>3.50</td>\n",
       "      <td>Male</td>\n",
       "      <td>No</td>\n",
       "      <td>Sun</td>\n",
       "      <td>Dinner</td>\n",
       "      <td>3</td>\n",
       "    </tr>\n",
       "    <tr>\n",
       "      <th>3</th>\n",
       "      <td>23.68</td>\n",
       "      <td>3.31</td>\n",
       "      <td>Male</td>\n",
       "      <td>No</td>\n",
       "      <td>Sun</td>\n",
       "      <td>Dinner</td>\n",
       "      <td>2</td>\n",
       "    </tr>\n",
       "    <tr>\n",
       "      <th>4</th>\n",
       "      <td>24.59</td>\n",
       "      <td>3.61</td>\n",
       "      <td>Female</td>\n",
       "      <td>No</td>\n",
       "      <td>Sun</td>\n",
       "      <td>Dinner</td>\n",
       "      <td>4</td>\n",
       "    </tr>\n",
       "  </tbody>\n",
       "</table>\n",
       "</div>"
      ],
      "text/plain": [
       "   total_bill   tip     sex smoker  day    time  size\n",
       "0       16.99  1.01  Female     No  Sun  Dinner     2\n",
       "1       10.34  1.66    Male     No  Sun  Dinner     3\n",
       "2       21.01  3.50    Male     No  Sun  Dinner     3\n",
       "3       23.68  3.31    Male     No  Sun  Dinner     2\n",
       "4       24.59  3.61  Female     No  Sun  Dinner     4"
      ]
     },
     "execution_count": 1,
     "metadata": {},
     "output_type": "execute_result"
    }
   ],
   "source": [
    "import seaborn as sns\n",
    "import matplotlib.pyplot as plt\n",
    "%matplotlib inline\n",
    "\n",
    "tips = sns.load_dataset('tips')        # Dist, Categ, and Grid plots\n",
    "flights = sns.load_dataset('flights')  # Matrix plots\n",
    "iris = sns.load_dataset('iris')        # Grid plots\n",
    "\n",
    "tips.head()"
   ]
  },
  {
   "cell_type": "markdown",
   "id": "3a6ea627",
   "metadata": {},
   "source": [
    "_____\n",
    "\n",
    "### 1. Distribution Plots"
   ]
  },
  {
   "cell_type": "markdown",
   "id": "09e34e9f",
   "metadata": {},
   "source": [
    "**Distplot**  "
   ]
  },
  {
   "cell_type": "code",
   "execution_count": 2,
   "id": "365057d0",
   "metadata": {
    "scrolled": false
   },
   "outputs": [
    {
     "data": {
      "text/plain": [
       "<seaborn.axisgrid.FacetGrid at 0x1c837f4d550>"
      ]
     },
     "execution_count": 2,
     "metadata": {},
     "output_type": "execute_result"
    },
    {
     "data": {
      "image/png": "[encoded data removed]",
      "text/plain": [
       "<Figure size 360x360 with 1 Axes>"
      ]
     },
     "metadata": {
      "needs_background": "light"
     },
     "output_type": "display_data"
    }
   ],
   "source": [
    "sns.displot(tips['total_bill'], bins=10)"
   ]
  },
  {
   "cell_type": "code",
   "execution_count": 3,
   "id": "e760863f",
   "metadata": {},
   "outputs": [
    {
     "data": {
      "text/plain": [
       "<seaborn.axisgrid.FacetGrid at 0x1c8340f61c0>"
      ]
     },
     "execution_count": 3,
     "metadata": {},
     "output_type": "execute_result"
    },
    {
     "data": {
      "image/png": "[encoded data removed]",
      "text/plain": [
       "<Figure size 360x360 with 1 Axes>"
      ]
     },
     "metadata": {
      "needs_background": "light"
     },
     "output_type": "display_data"
    }
   ],
   "source": [
    "# show KDE with `kde=True`\n",
    "sns.displot(tips['total_bill'], bins=10, kde=True)"
   ]
  },
  {
   "cell_type": "markdown",
   "id": "33b7517b",
   "metadata": {},
   "source": [
    "_____\n",
    "**Jointplot**"
   ]
  },
  {
   "cell_type": "code",
   "execution_count": 4,
   "id": "aa083c53",
   "metadata": {
    "scrolled": false
   },
   "outputs": [
    {
     "data": {
      "text/plain": [
       "<seaborn.axisgrid.JointGrid at 0x1c8387296d0>"
      ]
     },
     "execution_count": 4,
     "metadata": {},
     "output_type": "execute_result"
    },
    {
     "data": {
      "image/png": "[encoded data removed]",
      "text/plain": [
       "<Figure size 432x432 with 3 Axes>"
      ]
     },
     "metadata": {
      "needs_background": "light"
     },
     "output_type": "display_data"
    }
   ],
   "source": [
    "sns.jointplot(x='total_bill', y='tip', data=tips, kind='scatter')"
   ]
  },
  {
   "cell_type": "code",
   "execution_count": 5,
   "id": "4bf4f655",
   "metadata": {
    "scrolled": false
   },
   "outputs": [
    {
     "data": {
      "text/plain": [
       "<seaborn.axisgrid.JointGrid at 0x1c8398d0a60>"
      ]
     },
     "execution_count": 5,
     "metadata": {},
     "output_type": "execute_result"
    },
    {
     "data": {
      "image/png": "[encoded data removed]",
      "text/plain": [
       "<Figure size 432x432 with 3 Axes>"
      ]
     },
     "metadata": {
      "needs_background": "light"
     },
     "output_type": "display_data"
    }
   ],
   "source": [
    "# specify `kind` E.g., reg, kde, hex\n",
    "sns.jointplot(x='total_bill', y='tip', data=tips, kind='hex')"
   ]
  },
  {
   "cell_type": "markdown",
   "id": "79b99c47",
   "metadata": {},
   "source": [
    "_____\n",
    "**Pairplot**"
   ]
  },
  {
   "cell_type": "code",
   "execution_count": 6,
   "id": "9eae1763",
   "metadata": {
    "scrolled": false
   },
   "outputs": [
    {
     "data": {
      "text/plain": [
       "<seaborn.axisgrid.PairGrid at 0x1c839a19850>"
      ]
     },
     "execution_count": 6,
     "metadata": {},
     "output_type": "execute_result"
    },
    {
     "data": {
      "image/png": "[encoded data removed]",
      "text/plain": [
       "<Figure size 540x540 with 12 Axes>"
      ]
     },
     "metadata": {
      "needs_background": "light"
     },
     "output_type": "display_data"
    }
   ],
   "source": [
    "sns.pairplot(tips)"
   ]
  },
  {
   "cell_type": "code",
   "execution_count": null,
   "id": "9ff75e01",
   "metadata": {},
   "outputs": [],
   "source": [
    "# categorical comparison with `hue`\n",
    "sns.pairplot(tips, hue='sex')"
   ]
  },
  {
   "cell_type": "markdown",
   "id": "e4693498",
   "metadata": {},
   "source": [
    "_____\n",
    "**Kdeplot: Kernel Density Estimation**"
   ]
  },
  {
   "cell_type": "code",
   "execution_count": null,
   "id": "6fbfdfe6",
   "metadata": {},
   "outputs": [],
   "source": [
    "sns.kdeplot(tips['total_bill'])"
   ]
  },
  {
   "cell_type": "markdown",
   "id": "134deb93",
   "metadata": {},
   "source": [
    "_____\n",
    "\n",
    "### 2. Categorical Plots"
   ]
  },
  {
   "cell_type": "markdown",
   "id": "d05d88ed",
   "metadata": {},
   "source": [
    "**Barplot**"
   ]
  },
  {
   "cell_type": "code",
   "execution_count": null,
   "id": "5316fea4",
   "metadata": {
    "scrolled": true
   },
   "outputs": [],
   "source": [
    "sns.barplot(x='sex', y='tip', data=tips)\n",
    "# default = mean value"
   ]
  },
  {
   "cell_type": "code",
   "execution_count": null,
   "id": "c3dc4e8d",
   "metadata": {
    "scrolled": true
   },
   "outputs": [],
   "source": [
    "import numpy as np\n",
    "\n",
    "# change estimator object to a function\n",
    "sns.barplot(x='sex', y='tip', data=tips, estimator=np.std)"
   ]
  },
  {
   "cell_type": "markdown",
   "id": "7035a540",
   "metadata": {},
   "source": [
    "_____\n",
    "**Countplot**  "
   ]
  },
  {
   "cell_type": "code",
   "execution_count": null,
   "id": "f8e6ad89",
   "metadata": {},
   "outputs": [],
   "source": [
    "sns.countplot(x='size', data=tips)"
   ]
  },
  {
   "cell_type": "markdown",
   "id": "2ab2f25e",
   "metadata": {},
   "source": [
    "_____\n",
    "**Boxplot**  "
   ]
  },
  {
   "cell_type": "code",
   "execution_count": null,
   "id": "64f89714",
   "metadata": {
    "scrolled": true
   },
   "outputs": [],
   "source": [
    "sns.boxplot(x='day', y='total_bill', data=tips)"
   ]
  },
  {
   "cell_type": "code",
   "execution_count": null,
   "id": "61ecc464",
   "metadata": {},
   "outputs": [],
   "source": [
    "# using entire dataframe with `orient='h'`\n",
    "sns.boxplot(data=tips, orient='h')"
   ]
  },
  {
   "cell_type": "markdown",
   "id": "dc9021cf",
   "metadata": {},
   "source": [
    "_____\n",
    "**Violinplot**  "
   ]
  },
  {
   "cell_type": "code",
   "execution_count": null,
   "id": "c8207f1f",
   "metadata": {},
   "outputs": [],
   "source": [
    "sns.violinplot(x='day', y='total_bill', data=tips)"
   ]
  },
  {
   "cell_type": "code",
   "execution_count": null,
   "id": "d5a0ec64",
   "metadata": {},
   "outputs": [],
   "source": [
    "# categorical comparison with `hue`\n",
    "sns.violinplot(x='day', y='total_bill', data=tips, hue='sex')"
   ]
  },
  {
   "cell_type": "code",
   "execution_count": null,
   "id": "a9809be8",
   "metadata": {},
   "outputs": [],
   "source": [
    "# adjacent categorical comparison with `dodge=True`\n",
    "sns.violinplot(x='day', y='total_bill', data=tips, hue='sex', split=True)"
   ]
  },
  {
   "cell_type": "markdown",
   "id": "e0f4f095",
   "metadata": {},
   "source": [
    "_____\n",
    "**Stripplot**  "
   ]
  },
  {
   "cell_type": "code",
   "execution_count": null,
   "id": "91cc7df1",
   "metadata": {},
   "outputs": [],
   "source": [
    "# set `jitter=False` for singular line plot\n",
    "sns.stripplot(x='day', y='total_bill', data=tips)"
   ]
  },
  {
   "cell_type": "code",
   "execution_count": null,
   "id": "abd62ea4",
   "metadata": {},
   "outputs": [],
   "source": [
    "# using `hue` and `dodge`\n",
    "sns.stripplot(x='day', y='total_bill', data=tips, hue='sex', dodge=True)"
   ]
  },
  {
   "cell_type": "markdown",
   "id": "b2b54d2d",
   "metadata": {},
   "source": [
    "_____\n",
    "**Swarmplot**  "
   ]
  },
  {
   "cell_type": "code",
   "execution_count": null,
   "id": "d38d064b",
   "metadata": {},
   "outputs": [],
   "source": [
    "sns.swarmplot(x='day', y='total_bill', data=tips)"
   ]
  },
  {
   "cell_type": "markdown",
   "id": "d9ba80c2",
   "metadata": {},
   "source": [
    "_____\n",
    "\n",
    "### 3. Matrix Plots"
   ]
  },
  {
   "cell_type": "markdown",
   "id": "8446aab0",
   "metadata": {},
   "source": [
    "**Heatmap**"
   ]
  },
  {
   "cell_type": "code",
   "execution_count": null,
   "id": "acc07e89",
   "metadata": {},
   "outputs": [],
   "source": [
    "# print correlation data\n",
    "tips.corr()"
   ]
  },
  {
   "cell_type": "code",
   "execution_count": null,
   "id": "bad1f101",
   "metadata": {},
   "outputs": [],
   "source": [
    "# print values with `annot=True`\n",
    "sns.heatmap(tips.corr(), annot=True)"
   ]
  },
  {
   "cell_type": "code",
   "execution_count": null,
   "id": "7009e8fc",
   "metadata": {},
   "outputs": [],
   "source": [
    "flight_df = flights.pivot_table(values='passengers', index='year', columns='month')\n",
    "flight_df"
   ]
  },
  {
   "cell_type": "code",
   "execution_count": null,
   "id": "41e38458",
   "metadata": {},
   "outputs": [],
   "source": [
    "sns.heatmap(flight_df)"
   ]
  },
  {
   "cell_type": "markdown",
   "id": "3e8674be",
   "metadata": {},
   "source": [
    "_____\n",
    "**Clustermap**  "
   ]
  },
  {
   "cell_type": "code",
   "execution_count": null,
   "id": "0d2912e9",
   "metadata": {},
   "outputs": [],
   "source": [
    "# grouped by similarity - passenger count\n",
    "sns.clustermap(flight_df)\n",
    "\n",
    "# `standard_scale=1` for normalisation"
   ]
  },
  {
   "cell_type": "markdown",
   "id": "b5633fe2",
   "metadata": {},
   "source": [
    "_____\n",
    "\n",
    "### 4. Grid Plots"
   ]
  },
  {
   "cell_type": "markdown",
   "id": "7c1b587e",
   "metadata": {},
   "source": [
    "**PairGrid**"
   ]
  },
  {
   "cell_type": "code",
   "execution_count": null,
   "id": "8ae1c86b",
   "metadata": {},
   "outputs": [],
   "source": [
    "# create grid\n",
    "g = sns.PairGrid(iris)\n",
    "\n",
    "# map values\n",
    "g.map(plt.scatter)"
   ]
  },
  {
   "cell_type": "code",
   "execution_count": null,
   "id": "5dbb7076",
   "metadata": {},
   "outputs": [],
   "source": [
    "g = sns.PairGrid(iris)\n",
    "\n",
    "# specify plot type\n",
    "g.map_diag(plt.hist)\n",
    "g.map_upper(sns.kdeplot)\n",
    "g.map_lower(plt.scatter)"
   ]
  },
  {
   "cell_type": "markdown",
   "id": "8a6f450e",
   "metadata": {},
   "source": [
    "_____\n",
    "**Facetgrid**  "
   ]
  },
  {
   "cell_type": "code",
   "execution_count": null,
   "id": "c555327d",
   "metadata": {},
   "outputs": [],
   "source": [
    "# plt.hist\n",
    "g = sns.FacetGrid(tips, col='smoker', row='sex')\n",
    "g = g.map(plt.hist, 'total_bill')"
   ]
  },
  {
   "cell_type": "code",
   "execution_count": null,
   "id": "cec8b9b3",
   "metadata": {},
   "outputs": [],
   "source": [
    "# plt.scatter\n",
    "g = sns.FacetGrid(tips, col='smoker', row='sex')\n",
    "g = g.map(plt.scatter, 'total_bill', 'tip')"
   ]
  },
  {
   "cell_type": "markdown",
   "id": "6b8567d0",
   "metadata": {},
   "source": [
    "_____\n",
    "\n",
    "### 5. Regression Plots"
   ]
  },
  {
   "cell_type": "markdown",
   "id": "bbc71097",
   "metadata": {},
   "source": [
    "**Implot**"
   ]
  },
  {
   "cell_type": "code",
   "execution_count": null,
   "id": "de950529",
   "metadata": {},
   "outputs": [],
   "source": [
    "sns.lmplot(x='total_bill', y='tip', data=tips)"
   ]
  },
  {
   "cell_type": "code",
   "execution_count": null,
   "id": "992a92f2",
   "metadata": {},
   "outputs": [],
   "source": [
    "# categorical comparison with `hue`\n",
    "sns.lmplot(x='total_bill', y='tip', data=tips, hue='sex')"
   ]
  },
  {
   "cell_type": "code",
   "execution_count": null,
   "id": "520227d7",
   "metadata": {},
   "outputs": [],
   "source": [
    "# change marker type\n",
    "sns.lmplot(x='total_bill', y='tip', data=tips, hue='sex', markers=['o','x'])"
   ]
  },
  {
   "cell_type": "code",
   "execution_count": null,
   "id": "f75209a9",
   "metadata": {},
   "outputs": [],
   "source": [
    "# create grids with `row` / `col`\n",
    "sns.lmplot(x='total_bill', y='tip', data=tips, row='time')"
   ]
  }
 ],
 "metadata": {
  "kernelspec": {
   "display_name": "Python 3",
   "language": "python",
   "name": "python3"
  },
  "language_info": {
   "codemirror_mode": {
    "name": "ipython",
    "version": 3
   },
   "file_extension": ".py",
   "mimetype": "text/x-python",
   "name": "python",
   "nbconvert_exporter": "python",
   "pygments_lexer": "ipython3",
   "version": "3.8.8"
  }
 },
 "nbformat": 4,
 "nbformat_minor": 5
}
