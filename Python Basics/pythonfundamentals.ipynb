{
 "cells": [
  {
   "cell_type": "markdown",
   "id": "9f7dcc47",
   "metadata": {},
   "source": [
    "### Python Fundamentals"
   ]
  },
  {
   "cell_type": "markdown",
   "id": "73e15318",
   "metadata": {},
   "source": [
    "**1. Domain Grabber using split()**"
   ]
  },
  {
   "cell_type": "code",
   "execution_count": 1,
   "id": "6b148689",
   "metadata": {},
   "outputs": [
    {
     "data": {
      "text/plain": [
       "'python.com'"
      ]
     },
     "execution_count": 1,
     "metadata": {},
     "output_type": "execute_result"
    }
   ],
   "source": [
    "def domainGrab(email):\n",
    "    return email.split('@')[1]\n",
    "\n",
    "domainGrab('user@python.com')"
   ]
  },
  {
   "cell_type": "markdown",
   "id": "77dac941",
   "metadata": {},
   "source": [
    " "
   ]
  },
  {
   "cell_type": "markdown",
   "id": "749ff808",
   "metadata": {},
   "source": [
    "**2. Count occurance of a word in a string**"
   ]
  },
  {
   "cell_type": "code",
   "execution_count": 6,
   "id": "30f8cef2",
   "metadata": {
    "scrolled": true
   },
   "outputs": [
    {
     "data": {
      "text/plain": [
       "2"
      ]
     },
     "execution_count": 6,
     "metadata": {},
     "output_type": "execute_result"
    }
   ],
   "source": [
    "target = 'Python'\n",
    "\n",
    "def countWord(str):\n",
    "    count = 0\n",
    "    \n",
    "    for word in str.split():\n",
    "        if word == target:\n",
    "            count += 1\n",
    "    return count\n",
    "\n",
    "countWord('Python and Plankton or Python and Panda')"
   ]
  },
  {
   "cell_type": "markdown",
   "id": "7daaae82",
   "metadata": {},
   "source": [
    " "
   ]
  },
  {
   "cell_type": "markdown",
   "id": "e8553ae2",
   "metadata": {},
   "source": [
    "**3. Filter list by word / letter**"
   ]
  },
  {
   "cell_type": "code",
   "execution_count": 3,
   "id": "ceb243af",
   "metadata": {},
   "outputs": [
    {
     "data": {
      "text/plain": [
       "['Amazon Inc', 'Apple Inc', 'Meta Inc']"
      ]
     },
     "execution_count": 3,
     "metadata": {},
     "output_type": "execute_result"
    }
   ],
   "source": [
    "names = ['Amazon Inc', 'Apple Inc', 'Meta Inc', 'Microsoft Corp']\n",
    "\n",
    "#filter for names ending with 'Inc'\n",
    "list(filter(lambda word: word[-3:]=='Inc', names))"
   ]
  },
  {
   "cell_type": "code",
   "execution_count": 4,
   "id": "01fc2509",
   "metadata": {},
   "outputs": [
    {
     "data": {
      "text/plain": [
       "['Amazon Inc', 'Apple Inc']"
      ]
     },
     "execution_count": 4,
     "metadata": {},
     "output_type": "execute_result"
    }
   ],
   "source": [
    "#filter for names starting with 'A'\n",
    "list(filter(lambda word: word[0]=='A', names))"
   ]
  },
  {
   "cell_type": "markdown",
   "id": "64db6f68",
   "metadata": {},
   "source": [
    " "
   ]
  },
  {
   "cell_type": "markdown",
   "id": "7990949b",
   "metadata": {},
   "source": [
    "**4. If else with boolean**\n",
    "\n",
    "Minimum purchase amount required for discount:\n",
    "- $200 for 10% discount.\n",
    "\n",
    "- $500 for 20% discount.\n",
    "\n",
    "\n",
    "Members also get $100 off from the minimum purchase amount."
   ]
  },
  {
   "cell_type": "code",
   "execution_count": 24,
   "id": "479efcdf",
   "metadata": {},
   "outputs": [],
   "source": [
    "def discount_calc(amt, member):\n",
    "    if member == 'yes':\n",
    "        disc = 100\n",
    "    else:\n",
    "        disc = 0\n",
    "    \n",
    "    if amt >= 500 - disc:\n",
    "        payment = amt * 0.8\n",
    "        print('20% discount given, please pay', payment)\n",
    "    elif amt >= 200 - disc:\n",
    "        payment = amt * 0.9\n",
    "        print('10% discount given, please pay', payment)\n",
    "    else:\n",
    "        payment = amt\n",
    "        print('No discount given, please pay', payment)"
   ]
  },
  {
   "cell_type": "code",
   "execution_count": 32,
   "id": "eade369a",
   "metadata": {},
   "outputs": [
    {
     "name": "stdout",
     "output_type": "stream",
     "text": [
      "20% discount given, please pay 480.0\n"
     ]
    }
   ],
   "source": [
    "discount_calc(600, 'no')"
   ]
  },
  {
   "cell_type": "code",
   "execution_count": 33,
   "id": "6b55fec3",
   "metadata": {},
   "outputs": [
    {
     "name": "stdout",
     "output_type": "stream",
     "text": [
      "20% discount given, please pay 320.0\n"
     ]
    }
   ],
   "source": [
    "discount_calc(400, 'yes')"
   ]
  },
  {
   "cell_type": "code",
   "execution_count": 34,
   "id": "ad00db5a",
   "metadata": {},
   "outputs": [
    {
     "name": "stdout",
     "output_type": "stream",
     "text": [
      "No discount given, please pay 150\n"
     ]
    }
   ],
   "source": [
    "discount_calc(150, 'no')"
   ]
  }
 ],
 "metadata": {
  "kernelspec": {
   "display_name": "Python 3",
   "language": "python",
   "name": "python3"
  },
  "language_info": {
   "codemirror_mode": {
    "name": "ipython",
    "version": 3
   },
   "file_extension": ".py",
   "mimetype": "text/x-python",
   "name": "python",
   "nbconvert_exporter": "python",
   "pygments_lexer": "ipython3",
   "version": "3.8.8"
  }
 },
 "nbformat": 4,
 "nbformat_minor": 5
}
