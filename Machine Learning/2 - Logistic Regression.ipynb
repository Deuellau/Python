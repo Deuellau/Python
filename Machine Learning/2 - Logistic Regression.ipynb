{
 "cells": [
  {
   "cell_type": "markdown",
   "id": "6237580a",
   "metadata": {},
   "source": [
    "# Logistic Regression"
   ]
  },
  {
   "cell_type": "markdown",
   "id": "504a51bc",
   "metadata": {},
   "source": [
    "## Introduction\n",
    "This project aims to predict the risk of coronary heart disease using logistic regression. Covers EDA, Modelling and Tuning.\n",
    "\n",
    "Data is take from [Kaggle](https://www.kaggle.com/datasets/dileep070/heart-disease-prediction-using-logistic-regression)."
   ]
  },
  {
   "cell_type": "markdown",
   "id": "f3cde79a",
   "metadata": {},
   "source": [
    "_____\n",
    "## Environment Setup\n",
    "**Import Libraries**"
   ]
  },
  {
   "cell_type": "code",
   "execution_count": 1,
   "id": "66285ee9",
   "metadata": {},
   "outputs": [],
   "source": [
    "# data array, analysis, and visualisation libraries\n",
    "import pandas as pd\n",
    "import numpy as np\n",
    "import matplotlib.pyplot as plt\n",
    "import seaborn as sns\n",
    "%matplotlib inline\n",
    "\n",
    "# data split for training and testing, LogRegess algorithm, and model evaluation\n",
    "from sklearn.model_selection import train_test_split\n",
    "from sklearn.model_selection import StratifiedShuffleSplit\n",
    "from sklearn.linear_model import LogisticRegression\n",
    "from sklearn.metrics import classification_report\n",
    "from sklearn.metrics import confusion_matrix"
   ]
  },
  {
   "cell_type": "markdown",
   "id": "c1379de0",
   "metadata": {},
   "source": [
    "**Load Dataset**"
   ]
  },
  {
   "cell_type": "code",
   "execution_count": 2,
   "id": "47c8f73c",
   "metadata": {},
   "outputs": [],
   "source": [
    "# load dataset to 'abalone'\n",
    "heart = pd.read_csv('framingham.csv')"
   ]
  },
  {
   "cell_type": "markdown",
   "id": "5d4ee9a6",
   "metadata": {},
   "source": [
    "_____\n",
    "## EDA\n",
    "### **Data Description**"
   ]
  },
  {
   "cell_type": "markdown",
   "id": "0f85e567",
   "metadata": {},
   "source": [
    "**Preview a portion of the dataset**"
   ]
  },
  {
   "cell_type": "code",
   "execution_count": 3,
   "id": "5f19d2f1",
   "metadata": {},
   "outputs": [
    {
     "data": {
      "text/html": [
       "<div>\n",
       "<style scoped>\n",
       "    .dataframe tbody tr th:only-of-type {\n",
       "        vertical-align: middle;\n",
       "    }\n",
       "\n",
       "    .dataframe tbody tr th {\n",
       "        vertical-align: top;\n",
       "    }\n",
       "\n",
       "    .dataframe thead th {\n",
       "        text-align: right;\n",
       "    }\n",
       "</style>\n",
       "<table border=\"1\" class=\"dataframe\">\n",
       "  <thead>\n",
       "    <tr style=\"text-align: right;\">\n",
       "      <th></th>\n",
       "      <th>male</th>\n",
       "      <th>age</th>\n",
       "      <th>education</th>\n",
       "      <th>currentSmoker</th>\n",
       "      <th>cigsPerDay</th>\n",
       "      <th>BPMeds</th>\n",
       "      <th>prevalentStroke</th>\n",
       "      <th>prevalentHyp</th>\n",
       "      <th>diabetes</th>\n",
       "      <th>totChol</th>\n",
       "      <th>sysBP</th>\n",
       "      <th>diaBP</th>\n",
       "      <th>BMI</th>\n",
       "      <th>heartRate</th>\n",
       "      <th>glucose</th>\n",
       "      <th>TenYearCHD</th>\n",
       "    </tr>\n",
       "  </thead>\n",
       "  <tbody>\n",
       "    <tr>\n",
       "      <th>0</th>\n",
       "      <td>1</td>\n",
       "      <td>39</td>\n",
       "      <td>4.0</td>\n",
       "      <td>0</td>\n",
       "      <td>0.0</td>\n",
       "      <td>0.0</td>\n",
       "      <td>0</td>\n",
       "      <td>0</td>\n",
       "      <td>0</td>\n",
       "      <td>195.0</td>\n",
       "      <td>106.0</td>\n",
       "      <td>70.0</td>\n",
       "      <td>26.97</td>\n",
       "      <td>80.0</td>\n",
       "      <td>77.0</td>\n",
       "      <td>0</td>\n",
       "    </tr>\n",
       "    <tr>\n",
       "      <th>1</th>\n",
       "      <td>0</td>\n",
       "      <td>46</td>\n",
       "      <td>2.0</td>\n",
       "      <td>0</td>\n",
       "      <td>0.0</td>\n",
       "      <td>0.0</td>\n",
       "      <td>0</td>\n",
       "      <td>0</td>\n",
       "      <td>0</td>\n",
       "      <td>250.0</td>\n",
       "      <td>121.0</td>\n",
       "      <td>81.0</td>\n",
       "      <td>28.73</td>\n",
       "      <td>95.0</td>\n",
       "      <td>76.0</td>\n",
       "      <td>0</td>\n",
       "    </tr>\n",
       "    <tr>\n",
       "      <th>2</th>\n",
       "      <td>1</td>\n",
       "      <td>48</td>\n",
       "      <td>1.0</td>\n",
       "      <td>1</td>\n",
       "      <td>20.0</td>\n",
       "      <td>0.0</td>\n",
       "      <td>0</td>\n",
       "      <td>0</td>\n",
       "      <td>0</td>\n",
       "      <td>245.0</td>\n",
       "      <td>127.5</td>\n",
       "      <td>80.0</td>\n",
       "      <td>25.34</td>\n",
       "      <td>75.0</td>\n",
       "      <td>70.0</td>\n",
       "      <td>0</td>\n",
       "    </tr>\n",
       "    <tr>\n",
       "      <th>3</th>\n",
       "      <td>0</td>\n",
       "      <td>61</td>\n",
       "      <td>3.0</td>\n",
       "      <td>1</td>\n",
       "      <td>30.0</td>\n",
       "      <td>0.0</td>\n",
       "      <td>0</td>\n",
       "      <td>1</td>\n",
       "      <td>0</td>\n",
       "      <td>225.0</td>\n",
       "      <td>150.0</td>\n",
       "      <td>95.0</td>\n",
       "      <td>28.58</td>\n",
       "      <td>65.0</td>\n",
       "      <td>103.0</td>\n",
       "      <td>1</td>\n",
       "    </tr>\n",
       "    <tr>\n",
       "      <th>4</th>\n",
       "      <td>0</td>\n",
       "      <td>46</td>\n",
       "      <td>3.0</td>\n",
       "      <td>1</td>\n",
       "      <td>23.0</td>\n",
       "      <td>0.0</td>\n",
       "      <td>0</td>\n",
       "      <td>0</td>\n",
       "      <td>0</td>\n",
       "      <td>285.0</td>\n",
       "      <td>130.0</td>\n",
       "      <td>84.0</td>\n",
       "      <td>23.10</td>\n",
       "      <td>85.0</td>\n",
       "      <td>85.0</td>\n",
       "      <td>0</td>\n",
       "    </tr>\n",
       "    <tr>\n",
       "      <th>5</th>\n",
       "      <td>0</td>\n",
       "      <td>43</td>\n",
       "      <td>2.0</td>\n",
       "      <td>0</td>\n",
       "      <td>0.0</td>\n",
       "      <td>0.0</td>\n",
       "      <td>0</td>\n",
       "      <td>1</td>\n",
       "      <td>0</td>\n",
       "      <td>228.0</td>\n",
       "      <td>180.0</td>\n",
       "      <td>110.0</td>\n",
       "      <td>30.30</td>\n",
       "      <td>77.0</td>\n",
       "      <td>99.0</td>\n",
       "      <td>0</td>\n",
       "    </tr>\n",
       "    <tr>\n",
       "      <th>6</th>\n",
       "      <td>0</td>\n",
       "      <td>63</td>\n",
       "      <td>1.0</td>\n",
       "      <td>0</td>\n",
       "      <td>0.0</td>\n",
       "      <td>0.0</td>\n",
       "      <td>0</td>\n",
       "      <td>0</td>\n",
       "      <td>0</td>\n",
       "      <td>205.0</td>\n",
       "      <td>138.0</td>\n",
       "      <td>71.0</td>\n",
       "      <td>33.11</td>\n",
       "      <td>60.0</td>\n",
       "      <td>85.0</td>\n",
       "      <td>1</td>\n",
       "    </tr>\n",
       "    <tr>\n",
       "      <th>7</th>\n",
       "      <td>0</td>\n",
       "      <td>45</td>\n",
       "      <td>2.0</td>\n",
       "      <td>1</td>\n",
       "      <td>20.0</td>\n",
       "      <td>0.0</td>\n",
       "      <td>0</td>\n",
       "      <td>0</td>\n",
       "      <td>0</td>\n",
       "      <td>313.0</td>\n",
       "      <td>100.0</td>\n",
       "      <td>71.0</td>\n",
       "      <td>21.68</td>\n",
       "      <td>79.0</td>\n",
       "      <td>78.0</td>\n",
       "      <td>0</td>\n",
       "    </tr>\n",
       "    <tr>\n",
       "      <th>8</th>\n",
       "      <td>1</td>\n",
       "      <td>52</td>\n",
       "      <td>1.0</td>\n",
       "      <td>0</td>\n",
       "      <td>0.0</td>\n",
       "      <td>0.0</td>\n",
       "      <td>0</td>\n",
       "      <td>1</td>\n",
       "      <td>0</td>\n",
       "      <td>260.0</td>\n",
       "      <td>141.5</td>\n",
       "      <td>89.0</td>\n",
       "      <td>26.36</td>\n",
       "      <td>76.0</td>\n",
       "      <td>79.0</td>\n",
       "      <td>0</td>\n",
       "    </tr>\n",
       "    <tr>\n",
       "      <th>9</th>\n",
       "      <td>1</td>\n",
       "      <td>43</td>\n",
       "      <td>1.0</td>\n",
       "      <td>1</td>\n",
       "      <td>30.0</td>\n",
       "      <td>0.0</td>\n",
       "      <td>0</td>\n",
       "      <td>1</td>\n",
       "      <td>0</td>\n",
       "      <td>225.0</td>\n",
       "      <td>162.0</td>\n",
       "      <td>107.0</td>\n",
       "      <td>23.61</td>\n",
       "      <td>93.0</td>\n",
       "      <td>88.0</td>\n",
       "      <td>0</td>\n",
       "    </tr>\n",
       "  </tbody>\n",
       "</table>\n",
       "</div>"
      ],
      "text/plain": [
       "   male  age  education  currentSmoker  cigsPerDay  BPMeds  prevalentStroke  \\\n",
       "0     1   39        4.0              0         0.0     0.0                0   \n",
       "1     0   46        2.0              0         0.0     0.0                0   \n",
       "2     1   48        1.0              1        20.0     0.0                0   \n",
       "3     0   61        3.0              1        30.0     0.0                0   \n",
       "4     0   46        3.0              1        23.0     0.0                0   \n",
       "5     0   43        2.0              0         0.0     0.0                0   \n",
       "6     0   63        1.0              0         0.0     0.0                0   \n",
       "7     0   45        2.0              1        20.0     0.0                0   \n",
       "8     1   52        1.0              0         0.0     0.0                0   \n",
       "9     1   43        1.0              1        30.0     0.0                0   \n",
       "\n",
       "   prevalentHyp  diabetes  totChol  sysBP  diaBP    BMI  heartRate  glucose  \\\n",
       "0             0         0    195.0  106.0   70.0  26.97       80.0     77.0   \n",
       "1             0         0    250.0  121.0   81.0  28.73       95.0     76.0   \n",
       "2             0         0    245.0  127.5   80.0  25.34       75.0     70.0   \n",
       "3             1         0    225.0  150.0   95.0  28.58       65.0    103.0   \n",
       "4             0         0    285.0  130.0   84.0  23.10       85.0     85.0   \n",
       "5             1         0    228.0  180.0  110.0  30.30       77.0     99.0   \n",
       "6             0         0    205.0  138.0   71.0  33.11       60.0     85.0   \n",
       "7             0         0    313.0  100.0   71.0  21.68       79.0     78.0   \n",
       "8             1         0    260.0  141.5   89.0  26.36       76.0     79.0   \n",
       "9             1         0    225.0  162.0  107.0  23.61       93.0     88.0   \n",
       "\n",
       "   TenYearCHD  \n",
       "0           0  \n",
       "1           0  \n",
       "2           0  \n",
       "3           1  \n",
       "4           0  \n",
       "5           0  \n",
       "6           1  \n",
       "7           0  \n",
       "8           0  \n",
       "9           0  "
      ]
     },
     "execution_count": 3,
     "metadata": {},
     "output_type": "execute_result"
    }
   ],
   "source": [
    "# print first 10 records of 'heart'\n",
    "heart.head(10)"
   ]
  },
  {
   "cell_type": "markdown",
   "id": "26bf7eba",
   "metadata": {},
   "source": [
    "Data contains the following columns:  \n",
    "- **Sex** - male or female\n",
    "- **Age** - Age of the patient\n",
    "- **Current Smoker** - whether or not the patient is a current smoker\n",
    "- **Cigs Per Day** - the number of cigarettes that the person smoked on average in one day\n",
    "- **BP Meds** - whether or not the patient was on blood pressure medication\n",
    "- **Prevalent Stroke** - whether or not the patient had previously had a stroke\n",
    "- **Prevalent Hyp** - whether or not the patient was hypertensive\n",
    "- **Diabetes** - whether or not the patient had diabetes\n",
    "- **Tot Chol** - total cholesterol level\n",
    "- **Sys BP** - systolic blood pressure\n",
    "- **Dia BP** - diastolic blood pressure\n",
    "- **BMI** - Body Mass Index\n",
    "- **Heart Rate** - heart rate\n",
    "- **Glucose** - glucose level\n",
    "- **TenYearCHD** - 10 year risk of coronary heart disease (1 = Yes, 0 = No)"
   ]
  },
  {
   "cell_type": "markdown",
   "id": "7eaf728f",
   "metadata": {},
   "source": [
    "**Dataset information**"
   ]
  },
  {
   "cell_type": "code",
   "execution_count": 4,
   "id": "27f0e4c7",
   "metadata": {},
   "outputs": [
    {
     "name": "stdout",
     "output_type": "stream",
     "text": [
      "<class 'pandas.core.frame.DataFrame'>\n",
      "RangeIndex: 4238 entries, 0 to 4237\n",
      "Data columns (total 16 columns):\n",
      " #   Column           Non-Null Count  Dtype  \n",
      "---  ------           --------------  -----  \n",
      " 0   male             4238 non-null   int64  \n",
      " 1   age              4238 non-null   int64  \n",
      " 2   education        4133 non-null   float64\n",
      " 3   currentSmoker    4238 non-null   int64  \n",
      " 4   cigsPerDay       4209 non-null   float64\n",
      " 5   BPMeds           4185 non-null   float64\n",
      " 6   prevalentStroke  4238 non-null   int64  \n",
      " 7   prevalentHyp     4238 non-null   int64  \n",
      " 8   diabetes         4238 non-null   int64  \n",
      " 9   totChol          4188 non-null   float64\n",
      " 10  sysBP            4238 non-null   float64\n",
      " 11  diaBP            4238 non-null   float64\n",
      " 12  BMI              4219 non-null   float64\n",
      " 13  heartRate        4237 non-null   float64\n",
      " 14  glucose          3850 non-null   float64\n",
      " 15  TenYearCHD       4238 non-null   int64  \n",
      "dtypes: float64(9), int64(7)\n",
      "memory usage: 529.9 KB\n"
     ]
    }
   ],
   "source": [
    "# print data information\n",
    "heart.info()"
   ]
  },
  {
   "cell_type": "markdown",
   "id": "e42fa5aa",
   "metadata": {},
   "source": [
    "**Count for any duplicated rows**"
   ]
  },
  {
   "cell_type": "code",
   "execution_count": 5,
   "id": "e46d4dc3",
   "metadata": {},
   "outputs": [
    {
     "data": {
      "text/plain": [
       "0"
      ]
     },
     "execution_count": 5,
     "metadata": {},
     "output_type": "execute_result"
    }
   ],
   "source": [
    "# sums duplicated rows\n",
    "heart.duplicated().sum()"
   ]
  },
  {
   "cell_type": "markdown",
   "id": "8b6c3470",
   "metadata": {},
   "source": [
    "**Heatmap for missing values**"
   ]
  },
  {
   "cell_type": "code",
   "execution_count": 6,
   "id": "43d09672",
   "metadata": {},
   "outputs": [
    {
     "data": {
      "text/plain": [
       "<AxesSubplot:>"
      ]
     },
     "execution_count": 6,
     "metadata": {},
     "output_type": "execute_result"
    },
    {
     "data": {
      "image/png": "[encoded data removed]",
      "text/plain": [
       "<Figure size 432x288 with 1 Axes>"
      ]
     },
     "metadata": {
      "needs_background": "light"
     },
     "output_type": "display_data"
    }
   ],
   "source": [
    "# heatmap on missing values, no color bar, no y-axis labels\n",
    "sns.heatmap(heart.isnull(), cbar=False, yticklabels=False)"
   ]
  },
  {
   "cell_type": "markdown",
   "id": "f02dc4f6",
   "metadata": {},
   "source": [
    "**Data Understanding Summary:**  \n",
    "- 4238 unique rows.\n",
    "- Missing values are present.\n",
    "- All columns are numeric datatypes, hence no datatype transformation needed.\n",
    "- Multicollinearity for **currentSmoker** and **cigsPerDay**; any value greater than 0 for **cigsPerDay** will have a '1' value for **currentSmoker**."
   ]
  },
  {
   "cell_type": "markdown",
   "id": "42ffb4a3",
   "metadata": {},
   "source": [
    "### **Data Visualisation**"
   ]
  },
  {
   "cell_type": "markdown",
   "id": "278b61f5",
   "metadata": {},
   "source": [
    "**Gender**"
   ]
  },
  {
   "cell_type": "code",
   "execution_count": 7,
   "id": "8136d6ce",
   "metadata": {},
   "outputs": [
    {
     "data": {
      "text/plain": [
       "<AxesSubplot:xlabel='TenYearCHD', ylabel='count'>"
      ]
     },
     "execution_count": 7,
     "metadata": {},
     "output_type": "execute_result"
    },
    {
     "data": {
      "image/png": "[encoded data removed]",
      "text/plain": [
       "<Figure size 432x288 with 1 Axes>"
      ]
     },
     "metadata": {
      "needs_background": "light"
     },
     "output_type": "display_data"
    }
   ],
   "source": [
    "# plot countplot, split by gender, custom palette for clarity\n",
    "sns.countplot(x='TenYearCHD', data=heart, hue='male', palette=['#f5428d',\"#42b6f5\"])"
   ]
  },
  {
   "cell_type": "markdown",
   "id": "edc2bc44",
   "metadata": {},
   "source": [
    "- Individuals with coronary heart disease risk tends to be Male."
   ]
  },
  {
   "cell_type": "markdown",
   "id": "067cf1a1",
   "metadata": {},
   "source": [
    "**Age and Gender**"
   ]
  },
  {
   "cell_type": "code",
   "execution_count": 8,
   "id": "23bb3c16",
   "metadata": {},
   "outputs": [
    {
     "data": {
      "image/png": "[encoded data removed]",
      "text/plain": [
       "<Figure size 432x432 with 4 Axes>"
      ]
     },
     "metadata": {
      "needs_background": "light"
     },
     "output_type": "display_data"
    }
   ],
   "source": [
    "# plot facet grid to show dist of age by TenYearCHD and Gender\n",
    "g = sns.FacetGrid(heart, col='male', row = 'TenYearCHD')\n",
    "g = g.map(plt.hist, 'age')"
   ]
  },
  {
   "cell_type": "markdown",
   "id": "582176b3",
   "metadata": {},
   "source": [
    "- Younger individuals tends to not have CHD for both genders. CHD occurs at a younger age for males, compared to females."
   ]
  },
  {
   "cell_type": "markdown",
   "id": "ce71677a",
   "metadata": {},
   "source": [
    "**Smoker and Number of Cigarettes**"
   ]
  },
  {
   "cell_type": "code",
   "execution_count": 9,
   "id": "630f665d",
   "metadata": {},
   "outputs": [
    {
     "data": {
      "text/plain": [
       "<AxesSubplot:xlabel='TenYearCHD', ylabel='count'>"
      ]
     },
     "execution_count": 9,
     "metadata": {},
     "output_type": "execute_result"
    },
    {
     "data": {
      "image/png": "[encoded data removed]",
      "text/plain": [
       "<Figure size 432x288 with 1 Axes>"
      ]
     },
     "metadata": {
      "needs_background": "light"
     },
     "output_type": "display_data"
    }
   ],
   "source": [
    "# plot countplot for TenYearCHD, split by smoker\n",
    "sns.countplot(x='TenYearCHD', hue='currentSmoker', data=heart)"
   ]
  },
  {
   "cell_type": "code",
   "execution_count": 10,
   "id": "64ef998d",
   "metadata": {},
   "outputs": [
    {
     "data": {
      "text/plain": [
       "<AxesSubplot:xlabel='cigsPerDay', ylabel='Density'>"
      ]
     },
     "execution_count": 10,
     "metadata": {},
     "output_type": "execute_result"
    },
    {
     "data": {
      "image/png": "[encoded data removed]",
      "text/plain": [
       "<Figure size 432x288 with 1 Axes>"
      ]
     },
     "metadata": {
      "needs_background": "light"
     },
     "output_type": "display_data"
    }
   ],
   "source": [
    "# plot densityplot, cigsPerDay>0, split by TenYearCHD\n",
    "sns.kdeplot(x=heart[heart['cigsPerDay']>0]['cigsPerDay'], data=heart, hue='TenYearCHD')"
   ]
  },
  {
   "cell_type": "markdown",
   "id": "8f2f2765",
   "metadata": {},
   "source": [
    "- Smokers are more likely to be at risk of CHD.\n",
    "- Individuals not at risk of CHD tends to smoke lesser (<20)."
   ]
  },
  {
   "cell_type": "markdown",
   "id": "b6181232",
   "metadata": {},
   "source": [
    "**Blood Pressure Meds, Prevalent Stroke and Hypertensive, and Diabetic**"
   ]
  },
  {
   "cell_type": "code",
   "execution_count": 11,
   "id": "e6574dfd",
   "metadata": {},
   "outputs": [
    {
     "data": {
      "text/plain": [
       "Text(0.5, 1.0, 'Diabetic')"
      ]
     },
     "execution_count": 11,
     "metadata": {},
     "output_type": "execute_result"
    },
    {
     "data": {
      "image/png": "[encoded data removed]",
      "text/plain": [
       "<Figure size 720x1080 with 4 Axes>"
      ]
     },
     "metadata": {
      "needs_background": "light"
     },
     "output_type": "display_data"
    }
   ],
   "source": [
    "fig, axes = plt.subplots(2, 2, figsize=(10,15))\n",
    "\n",
    "sns.countplot(ax=axes[0,0], x='TenYearCHD', data=heart, hue='BPMeds')\n",
    "axes[0,0].set_title('BP Meds')\n",
    "\n",
    "sns.countplot(ax=axes[0,1], x='TenYearCHD', data=heart, hue='prevalentStroke')\n",
    "axes[0,1].set_title('Prevalent Stroke')\n",
    "\n",
    "sns.countplot(ax=axes[1,0], x='TenYearCHD', data=heart, hue='prevalentStroke')\n",
    "axes[1,0].set_title('Prevalent Hypertensive')\n",
    "\n",
    "sns.countplot(ax=axes[1,1], x='TenYearCHD', data=heart, hue='prevalentStroke')\n",
    "axes[1,1].set_title('Diabetic')"
   ]
  },
  {
   "cell_type": "markdown",
   "id": "add02f45",
   "metadata": {},
   "source": [
    "- No strong visual difference for CHD individuals who were taking blood pressure meds, had prevalent stroke or hypertension, or were diabetic."
   ]
  },
  {
   "cell_type": "code",
   "execution_count": 12,
   "id": "1557cb44",
   "metadata": {},
   "outputs": [
    {
     "data": {
      "text/plain": [
       "<AxesSubplot:xlabel='TenYearCHD', ylabel='BMI'>"
      ]
     },
     "execution_count": 12,
     "metadata": {},
     "output_type": "execute_result"
    },
    {
     "data": {
      "image/png": "[encoded data removed]",
      "text/plain": [
       "<Figure size 432x288 with 1 Axes>"
      ]
     },
     "metadata": {
      "needs_background": "light"
     },
     "output_type": "display_data"
    }
   ],
   "source": [
    "sns.violinplot(x='TenYearCHD', y='BMI', data=heart)"
   ]
  },
  {
   "cell_type": "markdown",
   "id": "decd1938",
   "metadata": {},
   "source": [
    "- BMI of CHD individuals are higher, with some values extending further than the maximum BMI value of non-CHD individuals."
   ]
  },
  {
   "cell_type": "markdown",
   "id": "fea8cf2f",
   "metadata": {},
   "source": [
    "_____\n",
    "## Data Cleaning"
   ]
  },
  {
   "cell_type": "markdown",
   "id": "c311e2d8",
   "metadata": {},
   "source": [
    "- We will create a new column that bins the age of individuals into age groups. We can then use **education**, **totChol**, and **glucose** median age group values to fill missing values for their respective columns.\n",
    "- Missing **cigsPerDay** values will be filled using median value if they smoke.\n",
    "- Rest are dropped."
   ]
  },
  {
   "cell_type": "markdown",
   "id": "2fdf4331",
   "metadata": {},
   "source": [
    "**Bin Age Groups**"
   ]
  },
  {
   "cell_type": "code",
   "execution_count": 13,
   "id": "caf60ef5",
   "metadata": {},
   "outputs": [
    {
     "data": {
      "text/plain": [
       "count    4238.000000\n",
       "mean       49.584946\n",
       "std         8.572160\n",
       "min        32.000000\n",
       "25%        42.000000\n",
       "50%        49.000000\n",
       "75%        56.000000\n",
       "max        70.000000\n",
       "Name: age, dtype: float64"
      ]
     },
     "execution_count": 13,
     "metadata": {},
     "output_type": "execute_result"
    }
   ],
   "source": [
    "# statistical summary - used to find min and max values\n",
    "heart.describe()['age']"
   ]
  },
  {
   "cell_type": "code",
   "execution_count": 14,
   "id": "2fe27fb8",
   "metadata": {},
   "outputs": [],
   "source": [
    "# list of conditions \n",
    "classifyage = [(heart['age']>60),\n",
    "           (heart['age']>50),\n",
    "           (heart['age']>40),\n",
    "           (heart['age']>30)]\n",
    "\n",
    "# assigned values\n",
    "agebinvalues = ['61-70', '51-60', '41-50', '31-40']\n",
    "     \n",
    "# new column 'age bin'\n",
    "heart['age bin'] = np.select(classifyage, agebinvalues)"
   ]
  },
  {
   "cell_type": "code",
   "execution_count": 15,
   "id": "d44480c5",
   "metadata": {},
   "outputs": [
    {
     "data": {
      "text/html": [
       "<div>\n",
       "<style scoped>\n",
       "    .dataframe tbody tr th:only-of-type {\n",
       "        vertical-align: middle;\n",
       "    }\n",
       "\n",
       "    .dataframe tbody tr th {\n",
       "        vertical-align: top;\n",
       "    }\n",
       "\n",
       "    .dataframe thead th {\n",
       "        text-align: right;\n",
       "    }\n",
       "</style>\n",
       "<table border=\"1\" class=\"dataframe\">\n",
       "  <thead>\n",
       "    <tr style=\"text-align: right;\">\n",
       "      <th></th>\n",
       "      <th>education</th>\n",
       "      <th>totChol</th>\n",
       "      <th>glucose</th>\n",
       "    </tr>\n",
       "    <tr>\n",
       "      <th>age bin</th>\n",
       "      <th></th>\n",
       "      <th></th>\n",
       "      <th></th>\n",
       "    </tr>\n",
       "  </thead>\n",
       "  <tbody>\n",
       "    <tr>\n",
       "      <th>31-40</th>\n",
       "      <td>2.0</td>\n",
       "      <td>210.0</td>\n",
       "      <td>77.0</td>\n",
       "    </tr>\n",
       "    <tr>\n",
       "      <th>41-50</th>\n",
       "      <td>2.0</td>\n",
       "      <td>230.0</td>\n",
       "      <td>77.0</td>\n",
       "    </tr>\n",
       "    <tr>\n",
       "      <th>51-60</th>\n",
       "      <td>2.0</td>\n",
       "      <td>245.0</td>\n",
       "      <td>79.0</td>\n",
       "    </tr>\n",
       "    <tr>\n",
       "      <th>61-70</th>\n",
       "      <td>1.0</td>\n",
       "      <td>245.0</td>\n",
       "      <td>80.0</td>\n",
       "    </tr>\n",
       "  </tbody>\n",
       "</table>\n",
       "</div>"
      ],
      "text/plain": [
       "         education  totChol  glucose\n",
       "age bin                             \n",
       "31-40          2.0    210.0     77.0\n",
       "41-50          2.0    230.0     77.0\n",
       "51-60          2.0    245.0     79.0\n",
       "61-70          1.0    245.0     80.0"
      ]
     },
     "execution_count": 15,
     "metadata": {},
     "output_type": "execute_result"
    }
   ],
   "source": [
    "# show median values for selected columns\n",
    "heart.groupby('age bin').median()[['education', 'totChol', 'glucose']]"
   ]
  },
  {
   "cell_type": "markdown",
   "id": "79486387",
   "metadata": {},
   "source": [
    "**Fill education, totChol, and glucose median age group values**"
   ]
  },
  {
   "cell_type": "code",
   "execution_count": 16,
   "id": "8de8b56e",
   "metadata": {},
   "outputs": [],
   "source": [
    "# function to fill NA values for education\n",
    "def fill_edu(cols):\n",
    "    education = cols[0]\n",
    "    agebin = cols[1]\n",
    "\n",
    "    if pd.isnull(education):\n",
    "        \n",
    "        if agebin == '61-70':\n",
    "            return 1.0\n",
    "        else:\n",
    "            return 2.0\n",
    "    else:\n",
    "        return education\n",
    "\n",
    "\n",
    "# function to NA values for totChol\n",
    "def fill_totChol(cols):\n",
    "    totChol = cols[0]\n",
    "    agebin = cols[1]\n",
    "\n",
    "    if pd.isnull(totChol):\n",
    "        \n",
    "        if agebin == '31-40':\n",
    "            return 210.0\n",
    "        elif agebin == '41-50':\n",
    "            return 230.0\n",
    "        else:\n",
    "            return 245.0\n",
    "    else:\n",
    "        return totChol\n",
    "\n",
    "    \n",
    "# function to NA values for glucose\n",
    "def fill_glucose(cols):\n",
    "    glucose = cols[0]\n",
    "    agebin = cols[1]\n",
    "\n",
    "    if pd.isnull(glucose):\n",
    "        \n",
    "        if agebin == '51-60':\n",
    "            return 79.0\n",
    "        elif agebin == '61-70':\n",
    "            return 80.0\n",
    "        else:\n",
    "            return 77\n",
    "    else:\n",
    "        return glucose"
   ]
  },
  {
   "cell_type": "code",
   "execution_count": 17,
   "id": "523e2dc8",
   "metadata": {},
   "outputs": [],
   "source": [
    "# apply functions\n",
    "heart['education'] = heart[['education', 'age bin']].apply(fill_edu, axis=1)\n",
    "heart['totChol'] = heart[['totChol', 'age bin']].apply(fill_totChol, axis=1)\n",
    "heart['glucose'] = heart[['glucose', 'age bin']].apply(fill_glucose, axis=1)"
   ]
  },
  {
   "cell_type": "markdown",
   "id": "2d71f2a6",
   "metadata": {},
   "source": [
    "**Fill cigsPerDay based on current smoker**"
   ]
  },
  {
   "cell_type": "code",
   "execution_count": 18,
   "id": "73242baa",
   "metadata": {},
   "outputs": [],
   "source": [
    "# fill cigsPerDay based on median value if currentSmoker=1\n",
    "def fill_cigs(cols):\n",
    "    smoker = cols[0]\n",
    "    cigs = cols[1]\n",
    "\n",
    "    if pd.isnull(cigs):\n",
    "        \n",
    "        if smoker == 0:\n",
    "            return 0\n",
    "        else:\n",
    "            return 20\n",
    "    else:\n",
    "        return cigs\n",
    "\n",
    "# apply function\n",
    "heart['cigsPerDay'] = heart[['currentSmoker', 'cigsPerDay']].apply(fill_cigs, axis=1)"
   ]
  },
  {
   "cell_type": "markdown",
   "id": "390a9172",
   "metadata": {},
   "source": [
    "**Drop remaining NA rows**"
   ]
  },
  {
   "cell_type": "code",
   "execution_count": 19,
   "id": "2f98e46e",
   "metadata": {},
   "outputs": [
    {
     "data": {
      "text/plain": [
       "<AxesSubplot:>"
      ]
     },
     "execution_count": 19,
     "metadata": {},
     "output_type": "execute_result"
    },
    {
     "data": {
      "image/png": "[encoded data removed]",
      "text/plain": [
       "<Figure size 432x288 with 1 Axes>"
      ]
     },
     "metadata": {
      "needs_background": "light"
     },
     "output_type": "display_data"
    }
   ],
   "source": [
    "# drop any NA rows\n",
    "heart.dropna(inplace=True)\n",
    "\n",
    "# heatmap on missing value\n",
    "sns.heatmap(heart.isnull(), cbar=False, yticklabels=False)"
   ]
  },
  {
   "cell_type": "markdown",
   "id": "d51ac672",
   "metadata": {},
   "source": [
    "**Drop columns**"
   ]
  },
  {
   "cell_type": "code",
   "execution_count": 20,
   "id": "924d2409",
   "metadata": {},
   "outputs": [],
   "source": [
    "# drop currentSmoker column (multicollinearity with cigsPerDay)\n",
    "heart.drop(columns='currentSmoker', inplace=True)\n",
    "\n",
    "# drop age bin column (multicollinearity with age bin)\n",
    "heart.drop(columns='age bin', inplace=True)"
   ]
  },
  {
   "cell_type": "markdown",
   "id": "52516a51",
   "metadata": {},
   "source": [
    "_____\n",
    "## Modelling"
   ]
  },
  {
   "cell_type": "markdown",
   "id": "50f6c617",
   "metadata": {},
   "source": [
    "**Train Test Split**"
   ]
  },
  {
   "cell_type": "code",
   "execution_count": 21,
   "id": "1fd5e065",
   "metadata": {},
   "outputs": [],
   "source": [
    "# set predictor(X) and response(y) arrays\n",
    "X = heart[['male', 'age', 'education', 'cigsPerDay', 'BPMeds', 'prevalentStroke',\n",
    "       'prevalentHyp', 'diabetes', 'totChol', 'sysBP', 'diaBP', 'BMI',\n",
    "       'heartRate', 'glucose']]\n",
    "\n",
    "y = heart['TenYearCHD']\n",
    "\n",
    "\n",
    "# split data - 70% train, 30% test with seed 12345\n",
    "X_train, X_test, y_train, y_test = train_test_split(X, y, test_size=0.3, random_state=12345)"
   ]
  },
  {
   "cell_type": "markdown",
   "id": "f1edcdc6",
   "metadata": {},
   "source": [
    "**Train Model**"
   ]
  },
  {
   "cell_type": "code",
   "execution_count": 22,
   "id": "6c80f1c0",
   "metadata": {},
   "outputs": [
    {
     "data": {
      "text/plain": [
       "LogisticRegression(max_iter=10000)"
      ]
     },
     "execution_count": 22,
     "metadata": {},
     "output_type": "execute_result"
    }
   ],
   "source": [
    "# create model, set max interation to 10,000\n",
    "logmodel = LogisticRegression(max_iter=10000)\n",
    "\n",
    "# train model\n",
    "logmodel.fit(X_train, y_train)"
   ]
  },
  {
   "cell_type": "markdown",
   "id": "d999dcd5",
   "metadata": {},
   "source": [
    "**Evaluate Performance**"
   ]
  },
  {
   "cell_type": "code",
   "execution_count": 23,
   "id": "7c158c96",
   "metadata": {},
   "outputs": [
    {
     "name": "stdout",
     "output_type": "stream",
     "text": [
      "              precision    recall  f1-score   support\n",
      "\n",
      "           0       0.87      0.99      0.93      1079\n",
      "           1       0.67      0.08      0.15       171\n",
      "\n",
      "    accuracy                           0.87      1250\n",
      "   macro avg       0.77      0.54      0.54      1250\n",
      "weighted avg       0.84      0.87      0.82      1250\n",
      "\n"
     ]
    }
   ],
   "source": [
    "# test model\n",
    "predictions = logmodel.predict(X_test)\n",
    "\n",
    "# print score summary\n",
    "print(classification_report(y_test, predictions))"
   ]
  },
  {
   "cell_type": "code",
   "execution_count": 24,
   "id": "8ed5493b",
   "metadata": {},
   "outputs": [
    {
     "data": {
      "text/plain": [
       "array([[1072,    7],\n",
       "       [ 157,   14]], dtype=int64)"
      ]
     },
     "execution_count": 24,
     "metadata": {},
     "output_type": "execute_result"
    }
   ],
   "source": [
    "confusion_matrix(y_test, predictions)"
   ]
  },
  {
   "cell_type": "markdown",
   "id": "ddeb7cfb",
   "metadata": {},
   "source": [
    "Taking **TenYearCHD** '1' as positive value:  \n",
    "\n",
    "- True Positive: 14 - Model correctly predicted 14 individuals with CHD.\n",
    "- True Negative: 1072 - Model correctly predicted 1072 individuals without CHD.\n",
    "- False Positive: 7 - Model incorrectly predicted 7 non-CHD individuals to have CHD.\n",
    "- False Negative: 157 - Model incorrectly predicted 157 CHD individuals to not have CHD.\n",
    "\n",
    "\n",
    "- Precision: 67% of the predicted CHD individuals were at risk of CHD.\n",
    "- Recall: 8% of CHD individuals were correctly predicted by the model.\n",
    "\n",
    "Overall, the model did poorly to predict CHD individuals but did great to predict non-CHD individuals. "
   ]
  },
  {
   "cell_type": "markdown",
   "id": "c762c151",
   "metadata": {},
   "source": [
    "_____\n",
    "## Tuning\n",
    "**Improving Model**\n",
    "- Perform normalisation to prevent attributes of larger value from significantly influencing the outcome.\n",
    "- Stratified sampling based on **TenYearCHD** for train-test split to ensure both classes are represented equally in the training data due to significant inequality in the distribution of **TenYearCHD** binary. "
   ]
  },
  {
   "cell_type": "markdown",
   "id": "5d54c6b0",
   "metadata": {},
   "source": [
    "**Normalisation**"
   ]
  },
  {
   "cell_type": "code",
   "execution_count": 25,
   "id": "074bf78c",
   "metadata": {},
   "outputs": [],
   "source": [
    "# perform z-score normalisation\n",
    "from sklearn.preprocessing import StandardScaler\n",
    "scaler = StandardScaler()\n",
    "X_scaled = pd.DataFrame(scaler.fit_transform(X), columns=['male', 'age', 'education', \n",
    "       'cigsPerDay', 'BPMeds', 'prevalentStroke', 'prevalentHyp', 'diabetes', 'totChol',\n",
    "       'sysBP', 'diaBP', 'BMI', 'heartRate', 'glucose'])\n",
    "\n",
    "# revert normalised male column\n",
    "X_scaled['male'] = X['male']"
   ]
  },
  {
   "cell_type": "markdown",
   "id": "8fb03c6a",
   "metadata": {},
   "source": [
    "**Stratified Sampling Train-test Split**"
   ]
  },
  {
   "cell_type": "code",
   "execution_count": 26,
   "id": "067f8adf",
   "metadata": {},
   "outputs": [],
   "source": [
    "# split data - 70% train, 30% test with seed 12345\n",
    "X_train, X_test, y_train, y_test = train_test_split(X, y, test_size=0.3, random_state=12345, stratify=y)"
   ]
  },
  {
   "cell_type": "code",
   "execution_count": 27,
   "id": "b40dce50",
   "metadata": {},
   "outputs": [
    {
     "data": {
      "text/plain": [
       "0    2480\n",
       "1     435\n",
       "Name: TenYearCHD, dtype: int64"
      ]
     },
     "execution_count": 27,
     "metadata": {},
     "output_type": "execute_result"
    }
   ],
   "source": [
    "# count unique values\n",
    "y_train.value_counts()"
   ]
  },
  {
   "cell_type": "code",
   "execution_count": 28,
   "id": "ccec6e21",
   "metadata": {},
   "outputs": [
    {
     "data": {
      "text/plain": [
       "0    1063\n",
       "1     187\n",
       "Name: TenYearCHD, dtype: int64"
      ]
     },
     "execution_count": 28,
     "metadata": {},
     "output_type": "execute_result"
    }
   ],
   "source": [
    "y_test.value_counts()"
   ]
  },
  {
   "cell_type": "markdown",
   "id": "b72a568d",
   "metadata": {},
   "source": [
    "- Both train and test data now have an equal distribution of **TenYearCHD**."
   ]
  },
  {
   "cell_type": "markdown",
   "id": "959b0f1f",
   "metadata": {},
   "source": [
    "**Modelling**"
   ]
  },
  {
   "cell_type": "code",
   "execution_count": 29,
   "id": "0d7c55e7",
   "metadata": {},
   "outputs": [],
   "source": [
    "# create model, set max interation to 10,000\n",
    "logmodel = LogisticRegression(max_iter=10000)\n",
    "\n",
    "# train model\n",
    "logmodel.fit(X_train, y_train)\n",
    "\n",
    "# test model\n",
    "predictions = logmodel.predict(X_test)"
   ]
  },
  {
   "cell_type": "markdown",
   "id": "16d8eff3",
   "metadata": {},
   "source": [
    "**Evaluate New Performance**"
   ]
  },
  {
   "cell_type": "code",
   "execution_count": 30,
   "id": "876070a2",
   "metadata": {},
   "outputs": [
    {
     "name": "stdout",
     "output_type": "stream",
     "text": [
      "              precision    recall  f1-score   support\n",
      "\n",
      "           0       0.86      1.00      0.92      1063\n",
      "           1       0.77      0.09      0.16       187\n",
      "\n",
      "    accuracy                           0.86      1250\n",
      "   macro avg       0.82      0.54      0.54      1250\n",
      "weighted avg       0.85      0.86      0.81      1250\n",
      "\n"
     ]
    }
   ],
   "source": [
    "# print score summary\n",
    "print(classification_report(y_test, predictions))"
   ]
  },
  {
   "cell_type": "code",
   "execution_count": 31,
   "id": "cc6b922f",
   "metadata": {},
   "outputs": [
    {
     "data": {
      "text/plain": [
       "array([[1058,    5],\n",
       "       [ 170,   17]], dtype=int64)"
      ]
     },
     "execution_count": 31,
     "metadata": {},
     "output_type": "execute_result"
    }
   ],
   "source": [
    "confusion_matrix(y_test, predictions)"
   ]
  },
  {
   "cell_type": "markdown",
   "id": "906f4dae",
   "metadata": {},
   "source": [
    "Taking **TenYearCHD** '1' as positive value:  \n",
    "\n",
    "- True Positive: 17 - Model correctly predicted 17 individuals with CHD. (21% increase, good)\n",
    "- True Negative: 1058 - Model correctly predicted 1058 individuals without CHD. (1.3% decrease, bad)\n",
    "- False Positive: 5 - Model incorrectly predicted 5 non-CHD individuals to have CHD. (28% decrease, good)\n",
    "- False Negative: 170 - Model incorrectly predicted 170 CHD individuals to not have CHD. (8.3% increase, bad)\n",
    "\n",
    "\n",
    "- Precision: 77% of the predicted CHD individuals were at risk of CHD. (15% increase, good)\n",
    "- Recall: 9% of CHD individuals were correctly predicted by the model. (13% increase, good)\n",
    "\n"
   ]
  },
  {
   "cell_type": "markdown",
   "id": "43ec73e0",
   "metadata": {},
   "source": [
    "New model was able to identify more CHD individuals correctly at the expense of identifying more CHD individuals to not have CHD. Latter means more individuals will fly under the radar of not being detected for CHD. "
   ]
  }
 ],
 "metadata": {
  "kernelspec": {
   "display_name": "Python 3",
   "language": "python",
   "name": "python3"
  },
  "language_info": {
   "codemirror_mode": {
    "name": "ipython",
    "version": 3
   },
   "file_extension": ".py",
   "mimetype": "text/x-python",
   "name": "python",
   "nbconvert_exporter": "python",
   "pygments_lexer": "ipython3",
   "version": "3.8.8"
  }
 },
 "nbformat": 4,
 "nbformat_minor": 5
}
